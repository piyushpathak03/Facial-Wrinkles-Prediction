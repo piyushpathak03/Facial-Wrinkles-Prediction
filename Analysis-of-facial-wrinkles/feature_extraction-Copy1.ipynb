{
 "cells": [
  {
   "cell_type": "code",
   "execution_count": 25,
   "metadata": {},
   "outputs": [
    {
     "name": "stdout",
     "output_type": "stream",
     "text": [
      "tipe: C:\\Users\\piyush.pathak\\Downloads\\Analysis-of-facial-wrinkles-master\\Analysis-of-facial-wrinkles\\data\\unwrinkles_crop\\10years.jpg, sobel_y: 126.256, sobel_x: 88.1101, per: 1.43293\n",
      "tipe: C:\\Users\\piyush.pathak\\Downloads\\Analysis-of-facial-wrinkles-master\\Analysis-of-facial-wrinkles\\data\\unwrinkles_crop\\11years.jpg, sobel_y: 125.756, sobel_x: 98.6051, per: 1.27535\n",
      "tipe: C:\\Users\\piyush.pathak\\Downloads\\Analysis-of-facial-wrinkles-master\\Analysis-of-facial-wrinkles\\data\\unwrinkles_crop\\15years.jpg, sobel_y: 115.893, sobel_x: 88.0544, per: 1.31615\n",
      "tipe: C:\\Users\\piyush.pathak\\Downloads\\Analysis-of-facial-wrinkles-master\\Analysis-of-facial-wrinkles\\data\\unwrinkles_crop\\17years.jpg, sobel_y: 99.6763, sobel_x: 48.3537, per: 2.0614\n",
      "tipe: C:\\Users\\piyush.pathak\\Downloads\\Analysis-of-facial-wrinkles-master\\Analysis-of-facial-wrinkles\\data\\unwrinkles_crop\\20years.jpg, sobel_y: 141.839, sobel_x: 41.934, per: 3.38244\n",
      "tipe: C:\\Users\\piyush.pathak\\Downloads\\Analysis-of-facial-wrinkles-master\\Analysis-of-facial-wrinkles\\data\\unwrinkles_crop\\25years.jpg, sobel_y: 114.674, sobel_x: 83.6966, per: 1.37012\n",
      "tipe: C:\\Users\\piyush.pathak\\Downloads\\Analysis-of-facial-wrinkles-master\\Analysis-of-facial-wrinkles\\data\\unwrinkles_crop\\30years.jpg, sobel_y: 134.702, sobel_x: 52.3654, per: 2.57235\n",
      "tipe: C:\\Users\\piyush.pathak\\Downloads\\Analysis-of-facial-wrinkles-master\\Analysis-of-facial-wrinkles\\data\\unwrinkles_crop\\35years.jpg, sobel_y: 92.2063, sobel_x: 108.662, per: 0.848563\n",
      "tipe: C:\\Users\\piyush.pathak\\Downloads\\Analysis-of-facial-wrinkles-master\\Analysis-of-facial-wrinkles\\data\\unwrinkles_crop\\40years.jpg, sobel_y: 107.894, sobel_x: 106.651, per: 1.01165\n",
      "tipe: C:\\Users\\piyush.pathak\\Downloads\\Analysis-of-facial-wrinkles-master\\Analysis-of-facial-wrinkles\\data\\unwrinkles_crop\\65years.jpg, sobel_y: 62.3776, sobel_x: 44.2972, per: 1.40816\n",
      "tipe: C:\\Users\\piyush.pathak\\Downloads\\Analysis-of-facial-wrinkles-master\\Analysis-of-facial-wrinkles\\data\\unwrinkles_crop\\darshan.jpg, sobel_y: 28.1278, sobel_x: 37.6056, per: 0.747968\n",
      "tipe: C:\\Users\\piyush.pathak\\Downloads\\Analysis-of-facial-wrinkles-master\\Analysis-of-facial-wrinkles\\data\\unwrinkles_crop\\piyush.jpg, sobel_y: 54.9986, sobel_x: 34.9141, per: 1.57526\n",
      "tipe: C:\\Users\\piyush.pathak\\Downloads\\Analysis-of-facial-wrinkles-master\\Analysis-of-facial-wrinkles\\data\\unwrinkles_crop\\qwe.jpg, sobel_y: 186.352, sobel_x: 86.3008, per: 2.15934\n",
      "tipe: C:\\Users\\piyush.pathak\\Downloads\\Analysis-of-facial-wrinkles-master\\Analysis-of-facial-wrinkles\\data\\unwrinkles_crop\\wer.jpg, sobel_y: 83.3782, sobel_x: 47.0389, per: 1.77254\n"
     ]
    }
   ],
   "source": [
    "import os\n",
    "import glob\n",
    "import cv2\n",
    "import numpy as np\n",
    "import matplotlib.pyplot as plt\n",
    "\n",
    "path = r'C:\\Users\\piyush.pathak\\Downloads\\Analysis-of-facial-wrinkles-master\\Analysis-of-facial-wrinkles\\data'\n",
    "classes = ['wrinkles_crop', 'unwrinkles_crop']\n",
    "\n",
    "sobely_kerut = []\n",
    "sobelx_kerut = []\n",
    "sobely_datar = []\n",
    "sobelx_datar = []\n",
    "per_kerut = []\n",
    "per_datar = []\n",
    "\n",
    "msg = \"tipe: {0}, sobel_y: {1:1.6}, sobel_x: {2:1.6}, per: {3:1.6}\"\n",
    "\n",
    "for i in classes:\n",
    "    file_path = os.path.join(path, i, '*.jpg')\n",
    "    files = glob.glob(file_path)\n",
    "    for j in files:\n",
    "        image = cv2.imread(j)\n",
    "        image = cv2.cvtColor(image, cv2.COLOR_BGR2RGB)\n",
    "        image_gray = cv2.GaussianBlur(image,(5,5),0)\n",
    "        image_gray = cv2.cvtColor(image_gray, cv2.COLOR_RGB2GRAY)\n",
    "        sobely = cv2.Sobel(image_gray, cv2.CV_8UC1, 0, 1, ksize=5)\n",
    "        sobelx = cv2.Sobel(image_gray, cv2.CV_8UC1, 1, 0, ksize=5)\n",
    "        \n",
    "        height, width= sobely.shape\n",
    "        val_1 = cv2.sumElems(sobely)[0]/(height * width)\n",
    "        val_2 = cv2.sumElems(sobelx)[0]/(height * width)\n",
    "        per = val_1/val_2\n",
    "        \n",
    "        if i == 'wrinkles_crop':\n",
    "            sobely_kerut.append(val_1)\n",
    "            sobelx_kerut.append(val_2)\n",
    "            per_kerut.append(per)\n",
    "        else:\n",
    "            sobely_datar.append(val_1)\n",
    "            sobelx_datar.append(val_2)\n",
    "            per_datar.append(per)\n",
    "            print (msg.format(j, val_1, val_2, val_1/val_2))"
   ]
  },
  {
   "cell_type": "code",
   "execution_count": 26,
   "metadata": {},
   "outputs": [
    {
     "name": "stdout",
     "output_type": "stream",
     "text": [
      "78.40009811865033\n",
      "22.561402808736936\n"
     ]
    }
   ],
   "source": [
    "print (np.mean(sobely_kerut))\n",
    "print (np.std(sobely_kerut))"
   ]
  },
  {
   "cell_type": "code",
   "execution_count": 27,
   "metadata": {},
   "outputs": [
    {
     "name": "stdout",
     "output_type": "stream",
     "text": [
      "75.75209345453581\n",
      "22.429842106349696\n"
     ]
    }
   ],
   "source": [
    "print (np.mean(sobelx_kerut))\n",
    "print (np.std(sobelx_kerut))"
   ]
  },
  {
   "cell_type": "code",
   "execution_count": 28,
   "metadata": {},
   "outputs": [
    {
     "name": "stdout",
     "output_type": "stream",
     "text": [
      "1.1045875851917588\n",
      "0.3855696857695436\n"
     ]
    }
   ],
   "source": [
    "print (np.mean(per_kerut))\n",
    "print (np.std(per_kerut))"
   ]
  },
  {
   "cell_type": "code",
   "execution_count": 29,
   "metadata": {},
   "outputs": [
    {
     "name": "stdout",
     "output_type": "stream",
     "text": [
      "105.29509829463382\n",
      "38.58687554314048\n"
     ]
    }
   ],
   "source": [
    "print (np.mean(sobely_datar))\n",
    "print (np.std(sobely_datar))"
   ]
  },
  {
   "cell_type": "code",
   "execution_count": 30,
   "metadata": {},
   "outputs": [
    {
     "name": "stdout",
     "output_type": "stream",
     "text": [
      "69.04203306351434\n",
      "26.438846803722548\n"
     ]
    }
   ],
   "source": [
    "print (np.mean(sobelx_datar))\n",
    "print (np.std(sobelx_datar))"
   ]
  },
  {
   "cell_type": "code",
   "execution_count": 31,
   "metadata": {},
   "outputs": [
    {
     "name": "stdout",
     "output_type": "stream",
     "text": [
      "1.6381583126052792\n",
      "0.6865329340928746\n"
     ]
    }
   ],
   "source": [
    "print (np.mean(per_datar))\n",
    "print (np.std(per_datar))"
   ]
  },
  {
   "cell_type": "code",
   "execution_count": null,
   "metadata": {},
   "outputs": [],
   "source": []
  },
  {
   "cell_type": "code",
   "execution_count": null,
   "metadata": {},
   "outputs": [],
   "source": []
  },
  {
   "cell_type": "code",
   "execution_count": null,
   "metadata": {},
   "outputs": [],
   "source": []
  }
 ],
 "metadata": {
  "kernelspec": {
   "display_name": "Python 3",
   "language": "python",
   "name": "python3"
  },
  "language_info": {
   "codemirror_mode": {
    "name": "ipython",
    "version": 3
   },
   "file_extension": ".py",
   "mimetype": "text/x-python",
   "name": "python",
   "nbconvert_exporter": "python",
   "pygments_lexer": "ipython3",
   "version": "3.8.3"
  }
 },
 "nbformat": 4,
 "nbformat_minor": 2
}
