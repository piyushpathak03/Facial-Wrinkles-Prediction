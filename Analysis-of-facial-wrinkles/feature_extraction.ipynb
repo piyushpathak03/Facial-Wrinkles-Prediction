{
 "cells": [
  {
   "cell_type": "code",
   "execution_count": 1,
   "metadata": {},
   "outputs": [
    {
     "name": "stdout",
     "output_type": "stream",
     "text": [
      "tipe: /media/fatchur/F8107C2D107BF0CC/kerut_wajah/berkerut/a29.jpg, sobel_y: 66.6177, sobel_x: 47.2347, per: 1.41036\n",
      "tipe: /media/fatchur/F8107C2D107BF0CC/kerut_wajah/berkerut/a1.jpg, sobel_y: 82.5791, sobel_x: 82.5653, per: 1.00017\n",
      "tipe: /media/fatchur/F8107C2D107BF0CC/kerut_wajah/berkerut/a10.jpg, sobel_y: 97.5021, sobel_x: 68.0262, per: 1.4333\n",
      "tipe: /media/fatchur/F8107C2D107BF0CC/kerut_wajah/berkerut/a11.jpg, sobel_y: 72.8484, sobel_x: 52.3468, per: 1.39165\n",
      "tipe: /media/fatchur/F8107C2D107BF0CC/kerut_wajah/berkerut/a12.jpg, sobel_y: 66.008, sobel_x: 65.2235, per: 1.01203\n",
      "tipe: /media/fatchur/F8107C2D107BF0CC/kerut_wajah/berkerut/a13.jpg, sobel_y: 82.7753, sobel_x: 64.1076, per: 1.29119\n",
      "tipe: /media/fatchur/F8107C2D107BF0CC/kerut_wajah/berkerut/a14.jpg, sobel_y: 54.2974, sobel_x: 28.5167, per: 1.90406\n",
      "tipe: /media/fatchur/F8107C2D107BF0CC/kerut_wajah/berkerut/a15.jpg, sobel_y: 102.307, sobel_x: 71.7681, per: 1.42552\n",
      "tipe: /media/fatchur/F8107C2D107BF0CC/kerut_wajah/berkerut/a16.jpg, sobel_y: 103.953, sobel_x: 39.4129, per: 2.63754\n",
      "tipe: /media/fatchur/F8107C2D107BF0CC/kerut_wajah/berkerut/a17.jpg, sobel_y: 110.074, sobel_x: 47.8751, per: 2.29919\n",
      "tipe: /media/fatchur/F8107C2D107BF0CC/kerut_wajah/berkerut/a18.jpg, sobel_y: 34.6702, sobel_x: 32.2412, per: 1.07534\n",
      "tipe: /media/fatchur/F8107C2D107BF0CC/kerut_wajah/berkerut/a19.jpg, sobel_y: 50.1951, sobel_x: 19.3474, per: 2.59441\n",
      "tipe: /media/fatchur/F8107C2D107BF0CC/kerut_wajah/berkerut/a2.jpg, sobel_y: 60.9556, sobel_x: 75.9846, per: 0.80221\n",
      "tipe: /media/fatchur/F8107C2D107BF0CC/kerut_wajah/berkerut/a20.jpg, sobel_y: 172.331, sobel_x: 44.5883, per: 3.86494\n",
      "tipe: /media/fatchur/F8107C2D107BF0CC/kerut_wajah/berkerut/a21.jpg, sobel_y: 119.108, sobel_x: 76.8385, per: 1.55011\n",
      "tipe: /media/fatchur/F8107C2D107BF0CC/kerut_wajah/berkerut/a22.jpg, sobel_y: 60.6334, sobel_x: 53.2786, per: 1.13804\n",
      "tipe: /media/fatchur/F8107C2D107BF0CC/kerut_wajah/berkerut/a23.jpg, sobel_y: 118.506, sobel_x: 100.394, per: 1.18041\n",
      "tipe: /media/fatchur/F8107C2D107BF0CC/kerut_wajah/berkerut/a24.jpg, sobel_y: 130.45, sobel_x: 56.5507, per: 2.30677\n",
      "tipe: /media/fatchur/F8107C2D107BF0CC/kerut_wajah/berkerut/a25.jpg, sobel_y: 91.4163, sobel_x: 63.336, per: 1.44335\n",
      "tipe: /media/fatchur/F8107C2D107BF0CC/kerut_wajah/berkerut/a26.jpg, sobel_y: 82.5073, sobel_x: 66.378, per: 1.24299\n",
      "tipe: /media/fatchur/F8107C2D107BF0CC/kerut_wajah/berkerut/a27.jpg, sobel_y: 150.659, sobel_x: 75.3222, per: 2.0002\n",
      "tipe: /media/fatchur/F8107C2D107BF0CC/kerut_wajah/berkerut/a28.jpg, sobel_y: 117.504, sobel_x: 95.5256, per: 1.23008\n",
      "tipe: /media/fatchur/F8107C2D107BF0CC/kerut_wajah/berkerut/a3.jpg, sobel_y: 92.2637, sobel_x: 55.8783, per: 1.65116\n",
      "tipe: /media/fatchur/F8107C2D107BF0CC/kerut_wajah/berkerut/a30.jpg, sobel_y: 79.5033, sobel_x: 53.442, per: 1.48766\n",
      "tipe: /media/fatchur/F8107C2D107BF0CC/kerut_wajah/berkerut/a31.jpg, sobel_y: 76.6242, sobel_x: 55.1115, per: 1.39035\n",
      "tipe: /media/fatchur/F8107C2D107BF0CC/kerut_wajah/berkerut/a32.jpg, sobel_y: 70.9804, sobel_x: 58.9652, per: 1.20377\n",
      "tipe: /media/fatchur/F8107C2D107BF0CC/kerut_wajah/berkerut/a33.jpg, sobel_y: 53.8897, sobel_x: 56.7003, per: 0.95043\n",
      "tipe: /media/fatchur/F8107C2D107BF0CC/kerut_wajah/berkerut/a34.jpg, sobel_y: 107.754, sobel_x: 44.7685, per: 2.40691\n",
      "tipe: /media/fatchur/F8107C2D107BF0CC/kerut_wajah/berkerut/a35.jpg, sobel_y: 111.643, sobel_x: 72.8354, per: 1.53281\n",
      "tipe: /media/fatchur/F8107C2D107BF0CC/kerut_wajah/berkerut/a36.jpg, sobel_y: 73.3094, sobel_x: 52.2503, per: 1.40304\n",
      "tipe: /media/fatchur/F8107C2D107BF0CC/kerut_wajah/berkerut/a37.jpg, sobel_y: 111.587, sobel_x: 36.08, per: 3.09277\n",
      "tipe: /media/fatchur/F8107C2D107BF0CC/kerut_wajah/berkerut/a38.jpg, sobel_y: 47.1551, sobel_x: 45.4717, per: 1.03702\n",
      "tipe: /media/fatchur/F8107C2D107BF0CC/kerut_wajah/berkerut/a39.jpg, sobel_y: 58.0628, sobel_x: 49.1538, per: 1.18125\n",
      "tipe: /media/fatchur/F8107C2D107BF0CC/kerut_wajah/berkerut/a4.jpg, sobel_y: 81.2204, sobel_x: 53.3143, per: 1.52343\n",
      "tipe: /media/fatchur/F8107C2D107BF0CC/kerut_wajah/berkerut/a40.jpg, sobel_y: 127.05, sobel_x: 63.5433, per: 1.99943\n",
      "tipe: /media/fatchur/F8107C2D107BF0CC/kerut_wajah/berkerut/a41.jpg, sobel_y: 64.0375, sobel_x: 53.8321, per: 1.18958\n",
      "tipe: /media/fatchur/F8107C2D107BF0CC/kerut_wajah/berkerut/a42.jpg, sobel_y: 143.594, sobel_x: 53.5545, per: 2.68127\n",
      "tipe: /media/fatchur/F8107C2D107BF0CC/kerut_wajah/berkerut/a43.jpg, sobel_y: 123.165, sobel_x: 44.8199, per: 2.748\n",
      "tipe: /media/fatchur/F8107C2D107BF0CC/kerut_wajah/berkerut/a44.jpg, sobel_y: 72.8245, sobel_x: 45.6757, per: 1.59438\n",
      "tipe: /media/fatchur/F8107C2D107BF0CC/kerut_wajah/berkerut/a45.jpg, sobel_y: 67.8317, sobel_x: 59.7729, per: 1.13482\n",
      "tipe: /media/fatchur/F8107C2D107BF0CC/kerut_wajah/berkerut/a46.jpg, sobel_y: 87.145, sobel_x: 55.4001, per: 1.57301\n",
      "tipe: /media/fatchur/F8107C2D107BF0CC/kerut_wajah/berkerut/a47.jpg, sobel_y: 77.0769, sobel_x: 62.6789, per: 1.22971\n",
      "tipe: /media/fatchur/F8107C2D107BF0CC/kerut_wajah/berkerut/a48.jpg, sobel_y: 85.3751, sobel_x: 53.0483, per: 1.60939\n",
      "tipe: /media/fatchur/F8107C2D107BF0CC/kerut_wajah/berkerut/a49.jpg, sobel_y: 93.5676, sobel_x: 70.4528, per: 1.32809\n",
      "tipe: /media/fatchur/F8107C2D107BF0CC/kerut_wajah/berkerut/a5.jpg, sobel_y: 81.8512, sobel_x: 51.9582, per: 1.57533\n",
      "tipe: /media/fatchur/F8107C2D107BF0CC/kerut_wajah/berkerut/a50.jpg, sobel_y: 91.5682, sobel_x: 67.075, per: 1.36516\n",
      "tipe: /media/fatchur/F8107C2D107BF0CC/kerut_wajah/berkerut/a6.jpg, sobel_y: 65.8646, sobel_x: 68.9813, per: 0.954818\n",
      "tipe: /media/fatchur/F8107C2D107BF0CC/kerut_wajah/berkerut/a7.jpg, sobel_y: 91.2821, sobel_x: 73.2705, per: 1.24582\n",
      "tipe: /media/fatchur/F8107C2D107BF0CC/kerut_wajah/berkerut/a8.jpg, sobel_y: 87.1847, sobel_x: 92.4464, per: 0.943084\n",
      "tipe: /media/fatchur/F8107C2D107BF0CC/kerut_wajah/berkerut/a9.jpg, sobel_y: 62.8926, sobel_x: 88.5357, per: 0.710364\n",
      "tipe: /media/fatchur/F8107C2D107BF0CC/kerut_wajah/datar/b28.jpg, sobel_y: 121.034, sobel_x: 92.5077, per: 1.30837\n",
      "tipe: /media/fatchur/F8107C2D107BF0CC/kerut_wajah/datar/b1.jpg, sobel_y: 66.4168, sobel_x: 63.5167, per: 1.04566\n",
      "tipe: /media/fatchur/F8107C2D107BF0CC/kerut_wajah/datar/b10.jpg, sobel_y: 23.484, sobel_x: 39.8883, per: 0.588745\n",
      "tipe: /media/fatchur/F8107C2D107BF0CC/kerut_wajah/datar/b11.jpg, sobel_y: 53.5843, sobel_x: 36.0869, per: 1.48487\n",
      "tipe: /media/fatchur/F8107C2D107BF0CC/kerut_wajah/datar/b12.jpg, sobel_y: 78.7792, sobel_x: 48.7345, per: 1.6165\n",
      "tipe: /media/fatchur/F8107C2D107BF0CC/kerut_wajah/datar/b13.jpg, sobel_y: 38.6671, sobel_x: 49.7167, per: 0.77775\n",
      "tipe: /media/fatchur/F8107C2D107BF0CC/kerut_wajah/datar/b14.jpg, sobel_y: 71.9338, sobel_x: 55.822, per: 1.28863\n",
      "tipe: /media/fatchur/F8107C2D107BF0CC/kerut_wajah/datar/b15.jpg, sobel_y: 41.3699, sobel_x: 71.3701, per: 0.579653\n",
      "tipe: /media/fatchur/F8107C2D107BF0CC/kerut_wajah/datar/b16.jpg, sobel_y: 23.1741, sobel_x: 46.368, per: 0.499786\n",
      "tipe: /media/fatchur/F8107C2D107BF0CC/kerut_wajah/datar/b17.jpg, sobel_y: 77.0393, sobel_x: 85.4659, per: 0.901403\n",
      "tipe: /media/fatchur/F8107C2D107BF0CC/kerut_wajah/datar/b18.jpg, sobel_y: 27.7795, sobel_x: 54.772, per: 0.507184\n",
      "tipe: /media/fatchur/F8107C2D107BF0CC/kerut_wajah/datar/b19.jpg, sobel_y: 69.4678, sobel_x: 70.9265, per: 0.979434\n",
      "tipe: /media/fatchur/F8107C2D107BF0CC/kerut_wajah/datar/b2.jpg, sobel_y: 64.4371, sobel_x: 45.3568, per: 1.42067\n",
      "tipe: /media/fatchur/F8107C2D107BF0CC/kerut_wajah/datar/b20.jpg, sobel_y: 21.8462, sobel_x: 56.3638, per: 0.387593\n",
      "tipe: /media/fatchur/F8107C2D107BF0CC/kerut_wajah/datar/b21.jpg, sobel_y: 76.0353, sobel_x: 65.1499, per: 1.16708\n",
      "tipe: /media/fatchur/F8107C2D107BF0CC/kerut_wajah/datar/b22.jpg, sobel_y: 59.3607, sobel_x: 80.171, per: 0.740426\n",
      "tipe: /media/fatchur/F8107C2D107BF0CC/kerut_wajah/datar/b23.jpg, sobel_y: 44.6237, sobel_x: 60.5268, per: 0.737256\n",
      "tipe: /media/fatchur/F8107C2D107BF0CC/kerut_wajah/datar/b24.jpg, sobel_y: 3.31484, sobel_x: 17.2233, per: 0.192463\n",
      "tipe: /media/fatchur/F8107C2D107BF0CC/kerut_wajah/datar/b25.jpg, sobel_y: 4.18968, sobel_x: 13.2882, per: 0.315293\n",
      "tipe: /media/fatchur/F8107C2D107BF0CC/kerut_wajah/datar/b26.jpg, sobel_y: 0.111034, sobel_x: 5.93312, per: 0.0187142\n",
      "tipe: /media/fatchur/F8107C2D107BF0CC/kerut_wajah/datar/b27.jpg, sobel_y: 5.71932, sobel_x: 12.715, per: 0.44981\n",
      "tipe: /media/fatchur/F8107C2D107BF0CC/kerut_wajah/datar/b29.jpg, sobel_y: 34.7334, sobel_x: 47.7415, per: 0.72753\n",
      "tipe: /media/fatchur/F8107C2D107BF0CC/kerut_wajah/datar/b3.jpg, sobel_y: 33.018, sobel_x: 29.9567, per: 1.10219\n",
      "tipe: /media/fatchur/F8107C2D107BF0CC/kerut_wajah/datar/b30.jpg, sobel_y: 34.3503, sobel_x: 62.2524, per: 0.551792\n",
      "tipe: /media/fatchur/F8107C2D107BF0CC/kerut_wajah/datar/b31.jpg, sobel_y: 48.9118, sobel_x: 40.0616, per: 1.22092\n",
      "tipe: /media/fatchur/F8107C2D107BF0CC/kerut_wajah/datar/b32.jpg, sobel_y: 27.561, sobel_x: 42.6696, per: 0.645918\n",
      "tipe: /media/fatchur/F8107C2D107BF0CC/kerut_wajah/datar/b33.jpg, sobel_y: 49.4648, sobel_x: 70.7692, per: 0.698959\n",
      "tipe: /media/fatchur/F8107C2D107BF0CC/kerut_wajah/datar/b34.jpg, sobel_y: 86.0653, sobel_x: 94.7694, per: 0.908156\n",
      "tipe: /media/fatchur/F8107C2D107BF0CC/kerut_wajah/datar/b35.jpg, sobel_y: 50.513, sobel_x: 35.494, per: 1.42314\n",
      "tipe: /media/fatchur/F8107C2D107BF0CC/kerut_wajah/datar/b36.jpg, sobel_y: 44.9284, sobel_x: 60.0324, per: 0.748402\n",
      "tipe: /media/fatchur/F8107C2D107BF0CC/kerut_wajah/datar/b37.jpg, sobel_y: 120.617, sobel_x: 74.7125, per: 1.61442\n",
      "tipe: /media/fatchur/F8107C2D107BF0CC/kerut_wajah/datar/b39.jpg, sobel_y: 15.3065, sobel_x: 28.5475, per: 0.536176\n",
      "tipe: /media/fatchur/F8107C2D107BF0CC/kerut_wajah/datar/b4.jpg, sobel_y: 31.8688, sobel_x: 31.5248, per: 1.01091\n",
      "tipe: /media/fatchur/F8107C2D107BF0CC/kerut_wajah/datar/b40.jpg, sobel_y: 47.3982, sobel_x: 60.7792, per: 0.779842\n",
      "tipe: /media/fatchur/F8107C2D107BF0CC/kerut_wajah/datar/b41.jpg, sobel_y: 96.3406, sobel_x: 69.2454, per: 1.39129\n",
      "tipe: /media/fatchur/F8107C2D107BF0CC/kerut_wajah/datar/b42.jpg, sobel_y: 164.963, sobel_x: 77.8226, per: 2.11973\n",
      "tipe: /media/fatchur/F8107C2D107BF0CC/kerut_wajah/datar/b43.jpg, sobel_y: 39.7755, sobel_x: 62.8611, per: 0.632752\n",
      "tipe: /media/fatchur/F8107C2D107BF0CC/kerut_wajah/datar/b44.jpg, sobel_y: 31.2278, sobel_x: 50.1694, per: 0.622448\n",
      "tipe: /media/fatchur/F8107C2D107BF0CC/kerut_wajah/datar/b45.jpg, sobel_y: 77.8804, sobel_x: 59.5427, per: 1.30798\n",
      "tipe: /media/fatchur/F8107C2D107BF0CC/kerut_wajah/datar/b46.jpg, sobel_y: 109.301, sobel_x: 103.548, per: 1.05555\n",
      "tipe: /media/fatchur/F8107C2D107BF0CC/kerut_wajah/datar/b47.jpg, sobel_y: 41.2135, sobel_x: 62.7354, per: 0.656941\n",
      "tipe: /media/fatchur/F8107C2D107BF0CC/kerut_wajah/datar/b48.jpg, sobel_y: 21.2182, sobel_x: 29.5017, per: 0.719219\n",
      "tipe: /media/fatchur/F8107C2D107BF0CC/kerut_wajah/datar/b49.jpg, sobel_y: 15.2503, sobel_x: 61.7644, per: 0.24691\n",
      "tipe: /media/fatchur/F8107C2D107BF0CC/kerut_wajah/datar/b5.jpg, sobel_y: 61.1316, sobel_x: 83.8471, per: 0.729084\n",
      "tipe: /media/fatchur/F8107C2D107BF0CC/kerut_wajah/datar/b50.jpg, sobel_y: 49.6687, sobel_x: 51.7828, per: 0.959174\n",
      "tipe: /media/fatchur/F8107C2D107BF0CC/kerut_wajah/datar/b6.jpg, sobel_y: 65.0709, sobel_x: 90.0815, per: 0.722355\n",
      "tipe: /media/fatchur/F8107C2D107BF0CC/kerut_wajah/datar/b7.jpg, sobel_y: 36.1866, sobel_x: 55.5437, per: 0.651497\n",
      "tipe: /media/fatchur/F8107C2D107BF0CC/kerut_wajah/datar/b9.jpg, sobel_y: 33.3191, sobel_x: 25.5807, per: 1.30251\n"
     ]
    }
   ],
   "source": [
    "import os\n",
    "import glob\n",
    "import cv2\n",
    "import numpy as np\n",
    "import matplotlib.pyplot as plt\n",
    "\n",
    "path = '/media/fatchur/F8107C2D107BF0CC/kerut_wajah/'\n",
    "classes = ['berkerut', 'datar']\n",
    "\n",
    "sobely_kerut = []\n",
    "sobelx_kerut = []\n",
    "sobely_datar = []\n",
    "sobelx_datar = []\n",
    "per_kerut = []\n",
    "per_datar = []\n",
    "\n",
    "msg = \"tipe: {0}, sobel_y: {1:1.6}, sobel_x: {2:1.6}, per: {3:1.6}\"\n",
    "\n",
    "for i in classes:\n",
    "    file_path = os.path.join(path, i, '*.jpg')\n",
    "    files = glob.glob(file_path)\n",
    "    for j in files:\n",
    "        image = cv2.imread(j)\n",
    "        image = cv2.cvtColor(image, cv2.COLOR_BGR2RGB)\n",
    "        image_gray = cv2.GaussianBlur(image,(5,5),0)\n",
    "        image_gray = cv2.cvtColor(image_gray, cv2.COLOR_RGB2GRAY)\n",
    "        sobely = cv2.Sobel(image_gray, cv2.CV_8UC1, 0, 1, ksize=5)\n",
    "        sobelx = cv2.Sobel(image_gray, cv2.CV_8UC1, 1, 0, ksize=5)\n",
    "        \n",
    "        height, width= sobely.shape\n",
    "        val_1 = cv2.sumElems(sobely)[0]/(height * width)\n",
    "        val_2 = cv2.sumElems(sobelx)[0]/(height * width)\n",
    "        per = val_1/val_2\n",
    "        \n",
    "        if i == 'berkerut':\n",
    "            sobely_kerut.append(val_1)\n",
    "            sobelx_kerut.append(val_2)\n",
    "            per_kerut.append(per)\n",
    "        else:\n",
    "            sobely_datar.append(val_1)\n",
    "            sobelx_datar.append(val_2)\n",
    "            per_datar.append(per)\n",
    "        \n",
    "        print (msg.format(j, val_1, val_2, val_1/val_2))"
   ]
  },
  {
   "cell_type": "code",
   "execution_count": 2,
   "metadata": {},
   "outputs": [
    {
     "name": "stdout",
     "output_type": "stream",
     "text": [
      "88.2840072262\n",
      "28.0029505813\n"
     ]
    }
   ],
   "source": [
    "print np.mean(sobely_kerut)\n",
    "print np.std(sobely_kerut)"
   ]
  },
  {
   "cell_type": "code",
   "execution_count": 3,
   "metadata": {},
   "outputs": [
    {
     "name": "stdout",
     "output_type": "stream",
     "text": [
      "59.3175663521\n",
      "16.3732625456\n"
     ]
    }
   ],
   "source": [
    "print np.mean(sobelx_kerut)\n",
    "print np.std(sobelx_kerut)"
   ]
  },
  {
   "cell_type": "code",
   "execution_count": 4,
   "metadata": {},
   "outputs": [
    {
     "name": "stdout",
     "output_type": "stream",
     "text": [
      "1.57953378876\n",
      "0.633547985698\n"
     ]
    }
   ],
   "source": [
    "print np.mean(per_kerut)\n",
    "print np.std(per_kerut)"
   ]
  },
  {
   "cell_type": "code",
   "execution_count": 5,
   "metadata": {},
   "outputs": [
    {
     "name": "stdout",
     "output_type": "stream",
     "text": [
      "50.8260584039\n",
      "33.0811826896\n"
     ]
    }
   ],
   "source": [
    "print np.mean(sobely_datar)\n",
    "print np.std(sobely_datar)"
   ]
  },
  {
   "cell_type": "code",
   "execution_count": 6,
   "metadata": {},
   "outputs": [
    {
     "name": "stdout",
     "output_type": "stream",
     "text": [
      "54.9008517827\n",
      "22.2577306876\n"
     ]
    }
   ],
   "source": [
    "print np.mean(sobelx_datar)\n",
    "print np.std(sobelx_datar)"
   ]
  },
  {
   "cell_type": "code",
   "execution_count": 7,
   "metadata": {},
   "outputs": [
    {
     "name": "stdout",
     "output_type": "stream",
     "text": [
      "0.876938963721\n",
      "0.418915046893\n"
     ]
    }
   ],
   "source": [
    "print np.mean(per_datar)\n",
    "print np.std(per_datar)"
   ]
  },
  {
   "cell_type": "code",
   "execution_count": null,
   "metadata": {
    "collapsed": true
   },
   "outputs": [],
   "source": []
  }
 ],
 "metadata": {
  "kernelspec": {
   "display_name": "Python 3",
   "language": "python",
   "name": "python3"
  },
  "language_info": {
   "codemirror_mode": {
    "name": "ipython",
    "version": 3
   },
   "file_extension": ".py",
   "mimetype": "text/x-python",
   "name": "python",
   "nbconvert_exporter": "python",
   "pygments_lexer": "ipython3",
   "version": "3.8.3"
  }
 },
 "nbformat": 4,
 "nbformat_minor": 2
}
